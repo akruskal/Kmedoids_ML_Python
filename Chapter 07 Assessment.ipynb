{
 "cells": [
  {
   "cell_type": "markdown",
   "metadata": {},
   "source": [
    "![alt text](images/HDAT9500Banner.PNG)\n",
    "<br>\n",
    "\n",
    "# Assessment Chapter 7\n",
    "\n",
    "## 1.1. Bisecting K-Means\n",
    "\n",
    "K-Means often results in clusters of widely different sizes. In this assessment you are asked to implement an extension to k-means called bisecting k-means. The algorithm proceeds as follows:\n",
    "\n",
    "1. Pick a cluster to split (for this exercise, always pick the largest one)\n",
    "2. Find 2 sub-clusters using the basic k-means algorithm (bisecting step)\n",
    "3. Repeat step 2 for ITER times (for this exercise, set ITER=20) and take the split that minimizes the inertia\n",
    "4. Repeat steps 1, 2 and 3 until the desired number of clusters is reached\n",
    "\n",
    "## 1.2. Tasks\n",
    "\n",
    "1. Implement the bisecting k-means algorithm.\n",
    "2. Apply bisecting k-means to the Breast Cancer Wisconsin (Diagnostic) Data Set using the first 10 numerical features in the dataset as feature vectors (as was done in the practical exercise \"Exercise 7 - PCA\"). Remember to scale the data to have zero mean and unit variance before clustering. Run the algorithm three different times so that the data are divided into: (a) 2 clusters, (b) 5 clusters, (c) 10 clusters.\n",
    "3. Compare the number of observations in each cluster between basic k-means and bisecting k-means when the data are divided into 10 clusters.\n",
    "\n",
    "## 1.2. Aims:\n",
    "\n",
    "1. Gain a better understanding of k-means and clustering algorithms in general.\n",
    "\n",
    "## 1.3. Tips:\n",
    "\n",
    "You are allowed to use any function that was used in the practical exercises."
   ]
  },
  {
   "cell_type": "code",
   "execution_count": null,
   "metadata": {},
   "outputs": [],
   "source": []
  }
 ],
 "metadata": {
  "kernelspec": {
   "display_name": "Python 3",
   "language": "python",
   "name": "python3"
  },
  "language_info": {
   "codemirror_mode": {
    "name": "ipython",
    "version": 3
   },
   "file_extension": ".py",
   "mimetype": "text/x-python",
   "name": "python",
   "nbconvert_exporter": "python",
   "pygments_lexer": "ipython3",
   "version": "3.6.4"
  }
 },
 "nbformat": 4,
 "nbformat_minor": 2
}
